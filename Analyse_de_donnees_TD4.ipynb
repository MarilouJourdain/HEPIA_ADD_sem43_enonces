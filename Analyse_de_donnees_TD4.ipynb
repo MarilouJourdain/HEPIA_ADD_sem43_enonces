{
 "cells": [
  {
   "attachments": {},
   "cell_type": "markdown",
   "metadata": {},
   "source": [
    "# Cours d'analyse de données \n",
    "GM3\n",
    "\n",
    "Pour compléter ce TD vous avez le choix entre plusieurs options:\n",
    "- Si vous avez une installation locale d'un compilateur de langage Python i.e (Anaconda, Vscode), installez les packages necessaires ( [Jupyter](https://jupyter.org/install), [numpy](https://numpy.org/install/), [matplotlib](https://matplotlib.org/stable/users/installing/index.html), [pandas](https://pandas.pydata.org/docs/getting_started/install.html) ) télechargez le notebook en cliquant sur \"download\" et modifiez/compilez le fichier localement. \n",
    "- Si vous n'avez pas d'installation locale, faite une copie de ce ficher dans le binder, avec vos initiales, et modifiez/compilez votre fichier en ligne.\n",
    " \n",
    " Pour compiler une cellule, appuyez sur shift+enter\n",
    "\n",
    "## TD 4\n",
    "\n",
    "### Part I: Conversion des mesures\n"
   ]
  },
  {
   "attachments": {},
   "cell_type": "markdown",
   "metadata": {},
   "source": [
    "**Etape 1 Conversion des mesures de pression en vitesse**\n",
    "\n",
    "a. Créé un vecteur qui contient les données de difference de pression mesurées pendant l'étape de calibration.\n",
    " \n",
    "b. Convertis ces pressions en vitesses et affiche ces dernières. \n",
    "\n",
    "Souviens toi du cours de dynamique des fluides/ aerodynamique  ;)\n",
    "\n",
    ">**HINT**: Utilise le package [Numpy](https://numpy.org/)."
   ]
  },
  {
   "cell_type": "code",
   "execution_count": null,
   "metadata": {},
   "outputs": [],
   "source": []
  },
  {
   "attachments": {},
   "cell_type": "markdown",
   "metadata": {},
   "source": [
    "**Etape 2 Etude des données de tension du fil chaud mesurées pendant l'étape de calibration**\n",
    "\n",
    "a. Lis le fichier TDMS qui contient les tensions (en volt) mesurées par le fil chaud pendant l'étape de calibration.\n",
    "\n",
    "c. Affiche le(s) nom(s) de groupe(s) du fichier TDMS. A quoi correspondent-il(s)?\n",
    "\n",
    "b. Affiche les differentes channels appartenant au premier groupe. Que representent-elles? \n",
    "\n",
    "c. Convertis les données du groupe en dataframe et sauvegarde la tension moyenne dans une liste. Convertis cette liste en dataframe pour une meilleure visibilité et affiche cette dernière. Commente brièvement les données. \n",
    "\n",
    ">**HINT**: Utilise les packages [npTDMS](https://pypi.org/project/npTDMS/)  et [pandas](https://pandas.pydata.org/)"
   ]
  },
  {
   "cell_type": "code",
   "execution_count": null,
   "metadata": {},
   "outputs": [],
   "source": []
  },
  {
   "attachments": {},
   "cell_type": "markdown",
   "metadata": {},
   "source": [
    "**Etape 3 Courbe d'étalonnage**\n",
    "\n",
    "La courbe d'étalonnage U = f(E) est un polynome de degré 4. Un example est affiché sur l'image ci-dessous. Choisis une des composantes des composantes du fil chaud, puis: \n",
    "\n",
    "a. Fit les données en utilisant la fonction [polyfit](https://numpy.org/doc/stable/reference/generated/numpy.polyfit.html) \n",
    "\n",
    "b. Affiche les constantes de calibration. \n",
    "\n",
    "c. Créé un graphique qui affiche les vitesses sur l'axe x et les tensison sur l'axe y, ainsi que le polynome de degré 4 calculé en a.\n",
    "\n",
    "![fit](calibration_fitting_example.PNG)\n",
    "\n",
    ">**HINT**: Utilise les packages [Numpy](https://numpy.org/), [Matplotlib](https://matplotlib.org/)"
   ]
  },
  {
   "cell_type": "code",
   "execution_count": null,
   "metadata": {},
   "outputs": [],
   "source": []
  },
  {
   "attachments": {},
   "cell_type": "markdown",
   "metadata": {},
   "source": [
    "### Part II Analyse de données \n",
    "\n",
    "#### A. Données sans cylindre"
   ]
  },
  {
   "attachments": {},
   "cell_type": "markdown",
   "metadata": {},
   "source": [
    "**Etape 1** \n",
    "\n",
    "a. Lis le fichier TDMS qui contient les données de tension acquises pendant l'étape de mesure collecté sans le cylindre, et convertis le fichier en dataframe.\n",
    "\n",
    "b. La frequence d'acquisition du système est de 10 kHz. Ajoute une colonne \"temps (s)\" dans la dataframe, puis convertis cette colonne en index de la dataframe.\n",
    "\n",
    "c. Affiche les données de tension dans un graph.\n"
   ]
  },
  {
   "cell_type": "code",
   "execution_count": null,
   "metadata": {},
   "outputs": [],
   "source": []
  },
  {
   "attachments": {},
   "cell_type": "markdown",
   "metadata": {},
   "source": [
    "**Etape 2** \n",
    "\n",
    "\n",
    "a. Convertis les measures de tension en vitesse. Pour cela, pour la composante choisie, insère les données de tension dans la fonction de transfert (polynome de degré 4 determiné à la partie I.3). \n",
    "\n",
    ">**HINT**: Utilise les packages [npTDMS](https://pypi.org/project/npTDMS/)  et [pandas](https://pandas.pydata.org/)\n",
    "\n",
    "\n",
    "b. Créé un graphique qui affiche la vitesse en fonction du temps \n",
    "\n",
    "(N'oublie pas de nommer les axes, donner un titre .. )\n",
    "\n",
    ">**Hint**: Utilise le package [Matplotlib](https://matplotlib.org/stable/users/index)"
   ]
  },
  {
   "cell_type": "code",
   "execution_count": null,
   "metadata": {},
   "outputs": [],
   "source": []
  },
  {
   "attachments": {},
   "cell_type": "markdown",
   "metadata": {},
   "source": [
    "\n",
    "**Etape 3.** Affiche les données suivantes: \n",
    "\n",
    "a. La vitesse moyenne.\n",
    "\n",
    "b. L'écart type.\n",
    "\n",
    "c. La variance. \n",
    "\n",
    "d. Le taux de turbulence.\n",
    "\n",
    "(N'oublie pas les unités)"
   ]
  },
  {
   "cell_type": "code",
   "execution_count": null,
   "metadata": {},
   "outputs": [],
   "source": []
  },
  {
   "attachments": {},
   "cell_type": "markdown",
   "metadata": {},
   "source": [
    "**Etape 4 Etude spectrale** \n",
    "\n",
    "a. Soustrait la moyenne du signal (detrend).\n",
    "\n",
    "b. Determine le Power Spectral Density (PSD) ([Welch](https://docs.scipy.org/doc/scipy/reference/generated/scipy.signal.welch.html) est une bonne option).\n",
    "\n",
    "c. Créé un graph qui montre le PSD en fonction de la frequence, en echelle loglog.\n",
    "\n",
    "d. Sur ce même graph, affiche la pente de -5/3 (Komolgorov decay)\n",
    "\n",
    ">**HINT**: Utilise le package [Scipy](https://scipy.org/)"
   ]
  },
  {
   "cell_type": "code",
   "execution_count": null,
   "metadata": {},
   "outputs": [],
   "source": [
    "\n"
   ]
  },
  {
   "attachments": {},
   "cell_type": "markdown",
   "metadata": {},
   "source": [
    "#### B. Données avec Cylindre \n",
    " \n",
    "**1.** Répètes les étape de la partie II A pour les données mesurées avec le cylindre.\n",
    "\n",
    "**2.** Sachant que le cylindre a un diamètre d = 12.55 mm.  Utilise le nombre de Strouhal pour trouver la fréquence d'emission des tourbillons. \n",
    "\n",
    "**3.** Compare les résultats des parties A et B et commente ces derniers.\n",
    "\n"
   ]
  },
  {
   "cell_type": "code",
   "execution_count": 1,
   "metadata": {},
   "outputs": [],
   "source": []
  },
  {
   "cell_type": "code",
   "execution_count": null,
   "metadata": {},
   "outputs": [],
   "source": []
  },
  {
   "cell_type": "code",
   "execution_count": null,
   "metadata": {},
   "outputs": [],
   "source": []
  }
 ],
 "metadata": {
  "kernelspec": {
   "display_name": "venv_mj",
   "language": "python",
   "name": "python3"
  },
  "language_info": {
   "codemirror_mode": {
    "name": "ipython",
    "version": 3
   },
   "file_extension": ".py",
   "mimetype": "text/x-python",
   "name": "python",
   "nbconvert_exporter": "python",
   "pygments_lexer": "ipython3",
   "version": "3.11.9"
  },
  "orig_nbformat": 4
 },
 "nbformat": 4,
 "nbformat_minor": 2
}
