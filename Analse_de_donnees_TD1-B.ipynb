{
 "cells": [
  {
   "cell_type": "markdown",
   "id": "a04541ea",
   "metadata": {},
   "source": [
    "# Cours d'analyse de données \n",
    "GM3\n",
    "\n",
    "Pour compléter ce TD vous avez le choix entre plusieurs options:\n",
    "- Copier ce ficher dans le binder en renommant le ficher avec vos initiales, et modifiez/compilez votre fichier en ligne.\n",
    "\n",
    "- Si vous avez une installation locale d'un compilateur de langage Python i.e (Anaconda, Vscode), installez les packages necessaires ( [Jupyter](https://jupyter.org/install), [numpy](https://numpy.org/install/), [matplotlib](https://matplotlib.org/stable/users/installing/index.html), [pandas](https://pandas.pydata.org/docs/getting_started/install.html) ) télechargez le notebook en cliquant sur \"download\" et modifiez/compilez le fichier localement. \n",
    "\n",
    " \n",
    "Pour compiler une cellule, appuyez sur shift+enter\n",
    "\n",
    "## TD 1: Python rappels -  Jeu de pétanque \n",
    "\n",
    "**Objectif :** construire pas à pas une simulation simplifiée d’une partie de pétanque à deux joueurs.  \n",
    "Ce TD permet de pratiquer :\n",
    "- les variables et structures de données,\n",
    "- les boucles et fonctions,\n",
    "- les tableaux NumPy,\n",
    "- la visualisation avec Matplotlib,"
   ]
  },
  {
   "cell_type": "markdown",
   "id": "cdd3a6bb",
   "metadata": {},
   "source": [
    "### **Question 1 – Paramétrage du jeu**\n",
    "Définie les variables suivantes: \n",
    "- nombre de joueurs \n",
    "- nombre de boules \n",
    "- longueur et largeur du terrain \n",
    "\n",
    "puis affiche ces variables sur l'ecran en utilisant [print](https://www.expertpython.fr/lexique/print())\n"
   ]
  },
  {
   "cell_type": "code",
   "execution_count": null,
   "id": "ec805170",
   "metadata": {},
   "outputs": [],
   "source": []
  },
  {
   "cell_type": "markdown",
   "id": "7c8b010a",
   "metadata": {},
   "source": [
    "### **Question 2 – Lancer du cochonnet**"
   ]
  },
  {
   "cell_type": "markdown",
   "id": "21929222",
   "metadata": {},
   "source": [
    "\n",
    "Le cochonnet est lancé aléatoirement sur le terrain.\n",
    "\n",
    "Écris une fonction `lancer_cochonnet()` qui renvoie les coordonnées `(x, y)` du cochonnet.\n",
    "\n",
    "Affiche la position du cochonnet en utilisant print.\n",
    "\n",
    "> **Hint**:  Utlise le package [numpy](https://numpy.org/doc/stable/user/absolute_beginners.html)"
   ]
  },
  {
   "cell_type": "code",
   "execution_count": null,
   "id": "30eff908",
   "metadata": {},
   "outputs": [],
   "source": []
  },
  {
   "cell_type": "markdown",
   "id": "688b8fc0",
   "metadata": {},
   "source": [
    "### **Question 3 - Affiche le terrain et le cochonnet**\n",
    "Représente graphiquement le terrain et le cochonnet (vue du dessus, avec x la largeur du terrain et y la longueur)\n",
    "\n",
    ">**Hint**: Utilise le package [Matplotlib](https://matplotlib.org/stable/users/index)\n"
   ]
  },
  {
   "cell_type": "code",
   "execution_count": null,
   "id": "8037c493",
   "metadata": {},
   "outputs": [],
   "source": []
  },
  {
   "cell_type": "markdown",
   "id": "00f366d9",
   "metadata": {},
   "source": [
    "### **Question 4 – Fonction pour simuler un lancer**"
   ]
  },
  {
   "cell_type": "markdown",
   "id": "9a364844",
   "metadata": {},
   "source": [
    "\n",
    "Ecrit la fonction pour simuler un lancer.\n",
    "On suppose que la position d’une boule suit une **distribution normale** centrée sur le cochonnet, avec un léger écart aléatoire.\n",
    "\n",
    "Écris une fonction `lancer_boules()` qui :\n",
    "- prend en argument les coordonnées du cochonnet,\n",
    "- retourne les coordonnés de la boule.\n",
    "\n",
    "Test pour un joueur et ajoute la boule sur le terrain\n"
   ]
  },
  {
   "cell_type": "code",
   "execution_count": null,
   "id": "344e107f",
   "metadata": {},
   "outputs": [],
   "source": []
  },
  {
   "cell_type": "markdown",
   "id": "0d148c9a",
   "metadata": {},
   "source": [
    "### **Question 5 – Simulation d'une partie**\n",
    "Les joueurs lance leur boule l'un après l'autre.\n",
    "\n",
    "Dans un tableau sauvegarde les coordonées des boules après chaque lancé. \n",
    "\n",
    "Pour chacunes des boules:\n",
    "On simule un lancé en appuyant sur la touche entrée, et en appelant la fonction définie en 4. \n",
    "\n",
    "\n",
    "Visualise le terrain. \n",
    "\n",
    "\n",
    "> **Hint**: \n",
    "\n",
    "\n",
    "[tableau (dictionary)](https://www.w3schools.com/python/python_dictionaries.asp) \n",
    "\n",
    "[for loop](https://wiki.python.org/moin/ForLoop) \n",
    "\n",
    "[input](https://www.w3schools.com/python/ref_func_input.asp)\n"
   ]
  },
  {
   "cell_type": "code",
   "execution_count": null,
   "id": "ed9555d0",
   "metadata": {},
   "outputs": [],
   "source": [
    "\n"
   ]
  },
  {
   "cell_type": "markdown",
   "id": "4c29f1db",
   "metadata": {},
   "source": [
    "### **Question 5 – Calcul des distances**"
   ]
  },
  {
   "cell_type": "markdown",
   "id": "6516dbae",
   "metadata": {},
   "source": [
    "Ecris une fonction qui calcule la distance de chaque boule par rapport au cochonnet.  \n"
   ]
  },
  {
   "cell_type": "code",
   "execution_count": null,
   "id": "15673f07",
   "metadata": {},
   "outputs": [],
   "source": [
    "\n"
   ]
  },
  {
   "cell_type": "markdown",
   "id": "78aec37d",
   "metadata": {},
   "source": [
    "### **Question 6 – Détermination du gagnant**"
   ]
  },
  {
   "cell_type": "markdown",
   "id": "0796ad8d",
   "metadata": {},
   "source": [
    "\n",
    "Le joueur gagnant est celui dont **la boule est la plus proche** du cochonnet.\n",
    "\n",
    "On veut ensuite compter combien de boules du joueur gagnant sont plus proches que **toutes celles de l’autre joueur** .\n"
   ]
  },
  {
   "cell_type": "code",
   "execution_count": null,
   "id": "716572d7",
   "metadata": {},
   "outputs": [],
   "source": []
  },
  {
   "cell_type": "markdown",
   "id": "bfa8a9db",
   "metadata": {},
   "source": [
    "\n",
    "### **Question 8 – Pour aller plus loin : collisions et déplacement des boules**\n",
    "\n",
    "On ajoute maintenant une **taille réelle** aux boules et la possibilité qu’une boule en touche une autre.  \n",
    "Lorsqu’une boule atterrit trop près d’une autre (distance < 2 × rayon), elle peut la **pousser**.\n",
    "\n",
    "**Hypothèses simplifiées :**\n",
    "- Rayon d’une boule : `r_boule = 0.1 m`\n",
    "- Lorsqu’une boule en touche une autre, on applique un petit déplacement aléatoire à la boule touchée.\n",
    "- Si une boule est déplacée **en dehors du terrain**, elle est **supprimée** (comme si elle était sortie du jeu).\n"
   ]
  },
  {
   "cell_type": "code",
   "execution_count": null,
   "id": "90a88399",
   "metadata": {},
   "outputs": [],
   "source": [
    "\n",
    "\n"
   ]
  }
 ],
 "metadata": {
  "kernelspec": {
   "display_name": "virtual_env2",
   "language": "python",
   "name": "python3"
  },
  "language_info": {
   "codemirror_mode": {
    "name": "ipython",
    "version": 3
   },
   "file_extension": ".py",
   "mimetype": "text/x-python",
   "name": "python",
   "nbconvert_exporter": "python",
   "pygments_lexer": "ipython3",
   "version": "3.10.9"
  }
 },
 "nbformat": 4,
 "nbformat_minor": 5
}
