{
 "cells": [
  {
   "attachments": {},
   "cell_type": "markdown",
   "metadata": {},
   "source": [
    "# Cours d'analyse de données \n",
    "\n",
    "GM3\n",
    "\n",
    "Pour compléter ce TD vous avez le choix entre plusieurs options:\n",
    "- Copier ce ficher dans le binder en renommant le ficher avec vos initiales, et modifiez/compilez votre fichier en ligne.\n",
    "\n",
    "- Si vous avez une installation locale d'un compilateur de langage Python i.e (Anaconda, Vscode), installez les packages necessaires ( [Jupyter](https://jupyter.org/install), [numpy](https://numpy.org/install/), [matplotlib](https://matplotlib.org/stable/users/installing/index.html), [pandas](https://pandas.pydata.org/docs/getting_started/install.html) ) télechargez le notebook en cliquant sur \"download\" et modifiez/compilez le fichier localement. \n",
    "\n",
    " \n",
    "Pour compiler une cellule, appuyez sur shift+enter\n",
    "\n",
    "## TD 1 \n",
    "\n",
    "### Part I: Python rappels "
   ]
  },
  {
   "attachments": {},
   "cell_type": "markdown",
   "metadata": {},
   "source": [
    "Exercice 1. Créer un programme qui simule un jeux de fléchettes. Le programme affiche la cible et les fléchettes qui ont été lancées. Le programme compte aussi le nombre de points en fonction de la position de la fléchette par rapport à la cible."
   ]
  },
  {
   "attachments": {},
   "cell_type": "markdown",
   "metadata": {},
   "source": [
    "**Etape 1**: Ecris une fonction qui permet de demander à l'utilisateur combien il possède de fléchettes. Teste la fonction et affiche la réponse à l'écran. \n"
   ]
  },
  {
   "cell_type": "code",
   "execution_count": null,
   "metadata": {},
   "outputs": [],
   "source": []
  },
  {
   "attachments": {},
   "cell_type": "markdown",
   "metadata": {},
   "source": [
    "**Etape 2**: Ecris une fonction qui permet de définir la cible. On considère que la cible est un cercle de centre (xo, yo) et de rayon r.\n",
    "\n",
    "Teste cette fonction.\n",
    "\n",
    "> **Hint**:  Utlise le package [numpy](https://numpy.org/doc/stable/user/absolute_beginners.html)\n",
    "\n",
    ">**Hint**: Souviens toi du cours de Maths B ;)"
   ]
  },
  {
   "cell_type": "code",
   "execution_count": null,
   "metadata": {},
   "outputs": [],
   "source": []
  },
  {
   "attachments": {},
   "cell_type": "markdown",
   "metadata": {},
   "source": [
    "**Etape 3**: Ecris une fonction qui permet d'afficher la cible. En d'autres termes, écris une fonction qui appelle la fonction de l'étape 2 et plot le cercle.\n",
    ">**Hint**: Utilise le package [Matplotlib](https://matplotlib.org/stable/users/index)"
   ]
  },
  {
   "cell_type": "code",
   "execution_count": null,
   "metadata": {},
   "outputs": [],
   "source": []
  },
  {
   "attachments": {},
   "cell_type": "markdown",
   "metadata": {},
   "source": [
    "**Etape 4:** Ecris une fonction qui prend en entrée les coordonnées d'une fléchette, ainsi que les paramètres de la cible et qui réalise les actions suivantes:\n",
    "1) Compte les points, i.e +1 si la fléchette est à l'intérieur de la cible, sinon le score reste le même.\n",
    "2) Renvoie une liste qui contient les coordonnées de la fléchette ainsi que la couleur verte si la fléchette est dans la cible, ou la couleur noire si la fléchette est en dehors de la cible. \n",
    "\n",
    "Teste ta fonction pour un lancé de fléchette. "
   ]
  },
  {
   "cell_type": "code",
   "execution_count": null,
   "metadata": {},
   "outputs": [],
   "source": []
  },
  {
   "attachments": {},
   "cell_type": "markdown",
   "metadata": {},
   "source": [
    "**Etape 5**: On considère que le joueur a autant de chance de lancer sa fléchette n'importe où, dans un carré de 0.5m de coté autour du centre de la cible. \n",
    "Ecris une fonction qui prend en entrée le nombre de fléchettes, et simule des lancés aléatoires. La fonction appelle ensuite la fonction écrite à l'étape 4 pour compter les points. \n",
    ">**Hint**: Utilise le package [random](https://docs.python.org/3/library/random.html)\n",
    "\n",
    ">**Hint**: Appelle la fonction compteur écrite à l'étape 4 à l'interieur de ta fonction"
   ]
  },
  {
   "cell_type": "code",
   "execution_count": null,
   "metadata": {},
   "outputs": [],
   "source": []
  },
  {
   "attachments": {},
   "cell_type": "markdown",
   "metadata": {},
   "source": [
    "**Etape 6**: Affiche les lancés de fléchette dans un graphe contenant la cible, les lancés réussis en vert et les lancés ratés en noir."
   ]
  },
  {
   "cell_type": "code",
   "execution_count": null,
   "metadata": {},
   "outputs": [],
   "source": []
  },
  {
   "attachments": {},
   "cell_type": "markdown",
   "metadata": {},
   "source": [
    "**Pour aller plus loin** \n",
    "\n",
    "Vous pouvez.. \n",
    "\n",
    "-  décomposer la cible en plusieurs domaines (i.e plusieurs cercles, quarts etc.. ) et attribuer un nombre de points différent à chaque domaine.  \n",
    "\n",
    "- Ajouter d'autres joueurs.\n",
    "\n",
    "- Donner une fonction de probabilité au lancés..."
   ]
  }
 ],
 "metadata": {
  "kernelspec": {
   "display_name": "envmj1",
   "language": "python",
   "name": "python3"
  },
  "language_info": {
   "codemirror_mode": {
    "name": "ipython",
    "version": 3
   },
   "file_extension": ".py",
   "mimetype": "text/x-python",
   "name": "python",
   "nbconvert_exporter": "python",
   "pygments_lexer": "ipython3",
   "version": "3.12.2"
  },
  "vscode": {
   "interpreter": {
    "hash": "6de231093517936bab6932442f6a441e17f23a1076e1cd72c3d6dd30a5659bc6"
   }
  }
 },
 "nbformat": 4,
 "nbformat_minor": 4
}
