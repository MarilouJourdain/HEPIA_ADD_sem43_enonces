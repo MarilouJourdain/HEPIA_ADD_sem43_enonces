{
 "cells": [
  {
   "cell_type": "markdown",
   "metadata": {},
   "source": [
    "# Cours d'analyse de données \n",
    "\n",
    "\n",
    "## TD 3 - Part I Collection de données d'un anemometre à ultrason \n",
    "\n",
    "\n",
    "Pour compléter ce TD vous avez besoin une installation locale d'un compilateur de langage Python i.e ( [Vscode](https://code.visualstudio.com/download) ou [Anaconda](https://www.anaconda.com/download)). \n",
    "\n",
    "Vous avez ensuite le choix entre plusieurs options:\n",
    "\n",
    "- Vous pouvez completer ce Notebook directement sur votre compilateur en utilisant le package: [Jupyter](https://jupyter.org/install) ou le [SpyderNotebook](https://docs.spyder-ide.org/current/plugins/notebook.html) si vous utilisez Spyder. Télechargez le notebook en cliquant sur \"download\" et modifiez/compilez le fichier localement. \n",
    "\n",
    "- Vous pouvez coder sur un nouveau ficher python .py. Si vous souhaitez diviser votre code en cellules, vous aurez besoins du package: [Jupyter](https://jupyter.org/install) ou [SpyderNotebook](https://docs.spyder-ide.org/current/plugins/notebook.html) si vous utilisez Spyder. \n",
    "\n",
    "\n",
    "Il se peut que vous deviez installer les librairies suivantes: [pyserial](https://pyserial.readthedocs.io/en/latest/pyserial.html), [pandas](https://pandas.pydata.org/docs/getting_started/install.html)\n",
    " \n",
    "Pour compiler une cellule, appuyez sur shift+enter\n",
    "\n",
    "\n",
    "\n",
    "\n",
    "(Pour info, la datasheet de l'anémomètre peut être téléchargée [ici](https://gillinstruments.com/wp-content/uploads/2022/08/WindMaster-Pro-iss-8.pdf))\n",
    "\n",
    "\n",
    "***note:***\n",
    "\n",
    "Si tu n'as pas eu le temps de finir ni de sauvegarder tes données tu peux a tout moment les sauvegarder sur ton pc en utilisant la librairie [pickle](https://www.datacamp.com/tutorial/pickle-python-tutorial=), ie : \n",
    "\n",
    "\n",
    "pour sauvegarder une variable data_temp2 contonant des données: \n",
    "\n",
    "\n",
    "import pickle # import necessay package \n",
    "\n",
    "\n",
    "with open('data_temp2.pkl', 'wb') as f:  # open a text file in writing mode\n",
    "\n",
    "pickle.dump(data_temp2, f) # serialise the list and save it into your computer\n",
    "\n",
    "\n",
    "f.close()\n",
    "\n",
    "\n",
    "pour la lire plus tard: \n",
    "\n",
    "\n",
    "import pickle # import necessay package \n",
    "\n",
    "\n",
    "with open('data_temp2.pkl', 'rb') as f:  # open a text file in reading mode\n",
    "\n",
    "\n",
    "data_temp2 = pickle.load(f) # deserialize using load()\n",
    "\n",
    "\n",
    "***"
   ]
  },
  {
   "cell_type": "markdown",
   "metadata": {},
   "source": [
    "1) Import le package serial et définie les variables suivantes: \n",
    "- port: nom de l'appareil, typiquement \"COMxx\" on Windows. Pour l'instant, définie port = \"COM1\". Tu pourras vérifier le nom du port quand tu branchera l'appareil à ton ordinateur dans le gestionnaire des prériphériques > Ports (COM et LP) \n",
    "- baudrate: nombre de symbols transimissible par seconde. 19200 pour l'anemometre à ultrason.\n",
    "\n"
   ]
  },
  {
   "cell_type": "code",
   "execution_count": null,
   "metadata": {},
   "outputs": [],
   "source": []
  },
  {
   "cell_type": "markdown",
   "metadata": {},
   "source": [
    "2. Essaie d'[ouvrir le port seriel](https://pyserial.readthedocs.io/en/latest/shortintro.html). Si aucun appareil n'est connecté, python va te retourner une erreur. Tu peux donc essayer d'ouvrir le port seriel à l'intérieur d'un bloc [try except](https://www.w3schools.com/python/python_try_except.asp), dans lequel tu peux retourner \"device connected\" si la commande ne retourne pas d'erreur, et \"device not connected at port xx \" si la commande retourne une erreur.\n",
    "\n",
    "\n"
   ]
  },
  {
   "cell_type": "code",
   "execution_count": null,
   "metadata": {},
   "outputs": [],
   "source": []
  },
  {
   "cell_type": "markdown",
   "metadata": {},
   "source": [
    "3. Ecris une fonction qui permet d'ouvrir le port serie, d'afficher et de sauvegarder dans une liste les xx premières lignes de données provenant de l'instrument. Viens ensuite brancher l'instrument et tester ta fonction. \n",
    "(Chaque ligne reçue correspond à la trame transmise par l'instrument illustré en Figures 1 et 2 pour la girouette et Figure 3 pour l'anemometre à ultrason).\n",
    "\n",
    "\n",
    "\n",
    "</figure> \n",
    "\n",
    "<figure>\n",
    "<img src=\"trame_ultrason.PNG\" style=\"width:50%\">\n",
    "<figcaption align = \"center\"> Figure 3: Trame anemometre à ultrason</figcaption>\n",
    "</figure>\n"
   ]
  },
  {
   "cell_type": "code",
   "execution_count": null,
   "metadata": {},
   "outputs": [],
   "source": []
  },
  {
   "cell_type": "markdown",
   "metadata": {},
   "source": [
    "4. En te basant sur la fonction précédente, écris une nouvelle fonction qui te permet: \n",
    "\n",
    "- d'ajouter une variable de temps pour acquérir les données pendant une durée de xx secondes (au lieu dun nombre de lignes). \n",
    "\n",
    "- de sortir (en plus des données) une liste de temps (timestamps), dans lequel chacun de ces timestamps correspond à une lignes de données provenant de l'instrument. \n",
    "\n",
    "Pour cela utilise le package [Time](https://docs.python.org/3/library/time.html)\n",
    "\n",
    "Viens ensuite brancher l'instrument et tester ta fonction. \n",
    "\n"
   ]
  },
  {
   "cell_type": "code",
   "execution_count": null,
   "metadata": {},
   "outputs": [],
   "source": []
  },
  {
   "cell_type": "markdown",
   "metadata": {},
   "source": [
    "5. Ferme le port seriel  \n",
    "\n"
   ]
  },
  {
   "cell_type": "code",
   "execution_count": 14,
   "metadata": {},
   "outputs": [],
   "source": []
  },
  {
   "cell_type": "markdown",
   "metadata": {},
   "source": [
    "5.  Pour décoder la trame envoyée par l'instrument, écris une fonction qui sauvegarde chacune des données suivantes dans une liste: \n",
    "\n",
    "- pour l'anemometre à ultrason: u, v, w. \n",
    "\n",
    "\n",
    "- pour la girouette: Dir , Speed \n",
    "\n",
    "\n",
    "Hints: \n",
    "\n",
    "\n",
    "- Pour séparer les trames, tu peux utiliser [split](https://www.w3schools.com/python/ref_string_split.asp)\n",
    "\n",
    "\n",
    "\n",
    "\n"
   ]
  },
  {
   "cell_type": "code",
   "execution_count": 7,
   "metadata": {},
   "outputs": [],
   "source": []
  },
  {
   "cell_type": "markdown",
   "metadata": {},
   "source": [
    "6. Sauvegarde les timestamps, ainsi que les listes dans une [DataFrame](https://pandas.pydata.org/docs/reference/api/pandas.DataFrame.html), avec les headers suivant: \n",
    "\n",
    "- pour l'anemometre à ultrason: Timestamp (unix), u (m/s), v (m/s), w (m/s). \n",
    "\n",
    "- pour la girouette: Timestamp (unix), Dir (deg), Speed (knots)\n",
    "\n",
    "\n",
    "Hints: \n",
    "\n",
    "- Pour creer une dataframe,  utilise le package [Pandas](https://pandas.pydata.org/docs/getting_started/overview.html)\n",
    "\n",
    "\n"
   ]
  },
  {
   "cell_type": "code",
   "execution_count": null,
   "metadata": {},
   "outputs": [],
   "source": []
  },
  {
   "cell_type": "code",
   "execution_count": null,
   "metadata": {},
   "outputs": [],
   "source": []
  },
  {
   "cell_type": "markdown",
   "metadata": {},
   "source": [
    "7. Sauvegarde les données sur ton ordinateur au format [.csv](https://pandas.pydata.org/docs/reference/api/pandas.DataFrame.to_csv.html) et garde les précieusement pour la partie II du TD.\n",
    "\n",
    "\n"
   ]
  },
  {
   "cell_type": "code",
   "execution_count": 39,
   "metadata": {},
   "outputs": [],
   "source": []
  },
  {
   "cell_type": "markdown",
   "metadata": {},
   "source": [
    "\n",
    "## TD 3 - Part II Analyse des données\n",
    "\n",
    "**1**: Importe les donnée du fichier .csv qu tu as collecté et affiche (print) les données.\n",
    "\n",
    ">**HINT**: Utilise le package [pandas](https://pandas.pydata.org/docs/reference/api/pandas.DataFrame.to_csv.html) "
   ]
  },
  {
   "cell_type": "code",
   "execution_count": null,
   "metadata": {},
   "outputs": [],
   "source": []
  },
  {
   "cell_type": "markdown",
   "metadata": {},
   "source": [
    "\n",
    "**2.** Convertis les Timestamps de [Epoch unix](https://www.unixtimestamp.com/ ) vers [datetime](https://pandas.pydata.org/docs/reference/api/pandas.to_datetime.html), puis remplace l'[index](https://pandas.pydata.org/docs/reference/api/pandas.DataFrame.set_index.html) de la dataframe par les données de temps. \n"
   ]
  },
  {
   "cell_type": "code",
   "execution_count": null,
   "metadata": {},
   "outputs": [],
   "source": []
  },
  {
   "cell_type": "markdown",
   "metadata": {},
   "source": [
    "**3.** Analyse les données recoltées en suivant la méthode du TD2. Toute analyse complémentaire est la bienvenue :)"
   ]
  },
  {
   "cell_type": "markdown",
   "metadata": {},
   "source": []
  }
 ],
 "metadata": {
  "kernelspec": {
   "display_name": "venv_mj",
   "language": "python",
   "name": "python3"
  },
  "language_info": {
   "codemirror_mode": {
    "name": "ipython",
    "version": 3
   },
   "file_extension": ".py",
   "mimetype": "text/x-python",
   "name": "python",
   "nbconvert_exporter": "python",
   "pygments_lexer": "ipython3",
   "version": "3.11.9"
  }
 },
 "nbformat": 4,
 "nbformat_minor": 2
}
