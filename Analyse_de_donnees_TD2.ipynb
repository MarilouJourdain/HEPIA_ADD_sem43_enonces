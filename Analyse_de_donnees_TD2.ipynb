{
 "cells": [
  {
   "attachments": {},
   "cell_type": "markdown",
   "metadata": {},
   "source": [
    "# Cours d'analyse de données \n",
    "GM3\n",
    "\n",
    "Pour compléter ce TD vous avez le choix entre plusieurs options:\n",
    "- Copier ce ficher dans le binder en renommant le ficher avec vos initiales, et modifiez/compilez votre fichier en ligne.\n",
    "\n",
    "- Si vous avez une installation locale d'un compilateur de langage Python i.e (Anaconda, Vscode), installez les packages necessaires ( [Jupyter](https://jupyter.org/install), [numpy](https://numpy.org/install/), [matplotlib](https://matplotlib.org/stable/users/installing/index.html), [pandas](https://pandas.pydata.org/docs/getting_started/install.html) ) télechargez le notebook en cliquant sur \"download\" et modifiez/compilez le fichier localement. \n",
    "\n",
    " \n",
    "Pour compiler une cellule, appuyez sur shift+enter\n",
    "\n",
    "## TD 2: Présentations de résultats\n"
   ]
  },
  {
   "attachments": {},
   "cell_type": "markdown",
   "metadata": {},
   "source": [
    "### 1) Etudier les données d'un anémomètre à ultrason \n",
    "\n",
    "L'anémomètre à ultrason enregistre les variables U, V, W en m/s à une fréquence de 32Hz. Des données ont été mesurées en face d'une soufflerie. Etudie ces données.\n",
    "\n",
    "\n",
    "**Etape 1**: Importe les donnée du fichier \"anemometer_data_TD2.csv\" et affiche (print) les données.\n",
    "\n",
    "\n",
    "(Pour info, la datasheet de l'anémomètre peut être téléchargée [ici](https://gillinstruments.com/wp-content/uploads/2022/08/WindMaster-Pro-iss-8.pdf))\n",
    "\n",
    ">**HINT**: Utilise le package [pandas](https://pandas.pydata.org/docs/reference/api/pandas.DataFrame.to_csv.html) \n"
   ]
  },
  {
   "cell_type": "code",
   "execution_count": null,
   "metadata": {},
   "outputs": [],
   "source": [
    "\n"
   ]
  },
  {
   "attachments": {},
   "cell_type": "markdown",
   "metadata": {},
   "source": [
    "**1.** Créer un graphique qui affiche les variables U, V, W en fonction du temps. \n",
    "\n",
    "(N'oublie pas de nommer les axes, donner un titre, afficher la légende \n",
    "\n",
    ">**Hint**: Utilise le package [Matplotlib](https://matplotlib.org/stable/users/index)\n"
   ]
  },
  {
   "cell_type": "code",
   "execution_count": null,
   "metadata": {},
   "outputs": [],
   "source": []
  },
  {
   "cell_type": "markdown",
   "metadata": {},
   "source": [
    "**2.** Affiche à l'écran les données suivantes: \n",
    "\n",
    "**a.** Les moyennes en U, V et W. \n",
    "\n",
    "**b.** L'écart type en U, V et W. \n"
   ]
  },
  {
   "cell_type": "code",
   "execution_count": null,
   "metadata": {},
   "outputs": [],
   "source": []
  },
  {
   "cell_type": "code",
   "execution_count": null,
   "metadata": {},
   "outputs": [],
   "source": []
  },
  {
   "cell_type": "markdown",
   "metadata": {},
   "source": [
    "**3.** Convertis les mesures U,V,W en magnitude et direction. Considère que la moyenne de U est aligné avec le sens de l'écoulement. \n",
    "\n",
    "Plot un graphique qui affiche la magnitude et la direction en fonction du temps sur deux subplots differents \n",
    "\n"
   ]
  },
  {
   "cell_type": "code",
   "execution_count": null,
   "metadata": {},
   "outputs": [],
   "source": [
    "\n"
   ]
  },
  {
   "attachments": {},
   "cell_type": "markdown",
   "metadata": {},
   "source": [
    "**4.** Affiche à l'aide d'un subplot deux histogrammes qui montrent les densités de probilité de:\n",
    "1. La magnitude du vent \n",
    "2. La direction du vent"
   ]
  },
  {
   "cell_type": "code",
   "execution_count": null,
   "metadata": {},
   "outputs": [],
   "source": []
  },
  {
   "cell_type": "markdown",
   "metadata": {},
   "source": [
    "**5.** En utilisant un scatter plot représente la magnitude en fonction de la direction. (Bonus: fais évoluer la couleur des marqueurs en fonction du temps)"
   ]
  },
  {
   "cell_type": "code",
   "execution_count": null,
   "metadata": {},
   "outputs": [],
   "source": []
  },
  {
   "cell_type": "markdown",
   "metadata": {},
   "source": [
    "6. Represente ces donnees sous forme de rose des vent \n",
    "\n",
    "\n",
    ">**HINT**: Utilise le package [windrose](https://python-windrose.github.io/windrose/ ) \n",
    "\n"
   ]
  },
  {
   "cell_type": "code",
   "execution_count": null,
   "metadata": {},
   "outputs": [],
   "source": []
  }
 ],
 "metadata": {
  "kernelspec": {
   "display_name": "envmj1",
   "language": "python",
   "name": "python3"
  },
  "language_info": {
   "codemirror_mode": {
    "name": "ipython",
    "version": 3
   },
   "file_extension": ".py",
   "mimetype": "text/x-python",
   "name": "python",
   "nbconvert_exporter": "python",
   "pygments_lexer": "ipython3",
   "version": "3.12.2"
  },
  "vscode": {
   "interpreter": {
    "hash": "6de231093517936bab6932442f6a441e17f23a1076e1cd72c3d6dd30a5659bc6"
   }
  }
 },
 "nbformat": 4,
 "nbformat_minor": 4
}
